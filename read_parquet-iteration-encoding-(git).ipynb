{
 "cells": [
  {
   "cell_type": "code",
   "execution_count": 1,
   "metadata": {},
   "outputs": [],
   "source": [
    "import pandas as pd\n",
    "import numpy as np\n",
    "import gc, os, re"
   ]
  },
  {
   "cell_type": "code",
   "execution_count": 2,
   "metadata": {},
   "outputs": [],
   "source": [
    "from datetime import datetime"
   ]
  },
  {
   "cell_type": "code",
   "execution_count": 3,
   "metadata": {},
   "outputs": [],
   "source": [
    "import warnings\n",
    "warnings.filterwarnings(\"ignore\")"
   ]
  },
  {
   "cell_type": "code",
   "execution_count": 16,
   "metadata": {},
   "outputs": [],
   "source": [
    "def icecream(text):\n",
    "    print(f'{datetime.now()}> {str(text)}')"
   ]
  },
  {
   "cell_type": "code",
   "execution_count": 5,
   "metadata": {},
   "outputs": [],
   "source": [
    "def reduce_mem_usage(df, verbose=True):\n",
    "    numerics = ['int8', 'int16', 'int32', 'int64', 'float16', 'float32', 'float64']\n",
    "    start_mem = df.memory_usage().sum() / 1024**2    \n",
    "    for col in df.columns:\n",
    "        col_type = df[col].dtypes\n",
    "        if col_type in numerics:\n",
    "            c_min = df[col].min()\n",
    "            c_max = df[col].max()\n",
    "            if str(col_type)[:3] == 'int':\n",
    "                if c_min > np.iinfo(np.int8).min and c_max < np.iinfo(np.int8).max:\n",
    "                    df[col] = df[col].astype(np.int8)\n",
    "                elif c_min > np.iinfo(np.int16).min and c_max < np.iinfo(np.int16).max:\n",
    "                    df[col] = df[col].astype(np.int16)\n",
    "                elif c_min > np.iinfo(np.int32).min and c_max < np.iinfo(np.int32).max:\n",
    "                    df[col] = df[col].astype(np.int32)\n",
    "                elif c_min > np.iinfo(np.int64).min and c_max < np.iinfo(np.int64).max:\n",
    "                    df[col] = df[col].astype(np.int64)  \n",
    "            else:\n",
    "                if c_min > np.finfo(np.float16).min and c_max < np.finfo(np.float16).max:\n",
    "                    df[col] = df[col].astype(np.float16)\n",
    "                elif c_min > np.finfo(np.float32).min and c_max < np.finfo(np.float32).max:\n",
    "                    df[col] = df[col].astype(np.float32)\n",
    "                else:\n",
    "                    df[col] = df[col].astype(np.float64)    \n",
    "    end_mem = df.memory_usage().sum() / 1024**2\n",
    "    if verbose: print('Mem. usage decreased to {:5.2f} Mb ({:.1f}% reduction)'.format(end_mem, 100 * (start_mem - end_mem) / start_mem))\n",
    "    return df"
   ]
  },
  {
   "cell_type": "code",
   "execution_count": 17,
   "metadata": {},
   "outputs": [],
   "source": [
    "def reduce_column(df):\n",
    "    numerics = ['int8', 'int16', 'int32', 'int64', 'float16', 'float32', 'float64']\n",
    "    col_type = str(df.dtypes)\n",
    "    if col_type in numerics:\n",
    "        c_min = df.min()\n",
    "        c_max = df.max()\n",
    "        if col_type[:3] == 'int':\n",
    "            if c_min > np.iinfo(np.int8).min and c_max < np.iinfo(np.int8).max:\n",
    "                df = df.astype(np.int8)\n",
    "            elif c_min > np.iinfo(np.int16).min and c_max < np.iinfo(np.int16).max:\n",
    "                df = df.astype(np.int16)\n",
    "            elif c_min > np.iinfo(np.int32).min and c_max < np.iinfo(np.int32).max:\n",
    "                df = df.astype(np.int32)\n",
    "            elif c_min > np.iinfo(np.int64).min and c_max < np.iinfo(np.int64).max:\n",
    "                df = df.astype(np.int64)  \n",
    "        else:\n",
    "            if c_min > np.finfo(np.float16).min and c_max < np.finfo(np.float16).max:\n",
    "                df = df.astype(np.float16)\n",
    "            elif c_min > np.finfo(np.float32).min and c_max < np.finfo(np.float32).max:\n",
    "                df = df.astype(np.float32)\n",
    "            else:\n",
    "                df = df.astype(np.float64)    \n",
    "    return df"
   ]
  },
  {
   "cell_type": "code",
   "execution_count": 7,
   "metadata": {},
   "outputs": [],
   "source": [
    "# clickstream.zip -   выборка с поведенческими данными из цифровых каналов\n",
    "\n",
    "# timestamp - дата и время совершения события\n",
    "# application_id - идентификатор приложения\n",
    "# client\t- Идентификатор клиента \n",
    "# session_id - Идентификатор сессии\n",
    "# event_type - Тип события\n",
    "# event_category - Категория события\n",
    "# event_name - Имя события\n",
    "# event_label - Дополнительный атрибут события\n",
    "# device_screen_name - Имя экрана на котором произошло событие\n",
    "# timezone - Часовой пояс\n",
    "# device_is_webview - Флаг того что страница открыта внутри webview\n",
    "# page_urlhost - Домен страницы\n",
    "# page_urlpath_full - Путь страницы\n",
    "# net_connection_type - Тип подключения\n",
    "# net_connection_tech - Технология подключения\n",
    "\n",
    "# prediction_session_timestamp.csv -  выборка для построения прогноза \n",
    "# abattle_train_target.csv -  выборка для обучения \n",
    "\n",
    "# client - Идентификатор клиента \n",
    "# session_id - Идентификатор сессии\n",
    "# timestamp - Время начала сессии\n",
    "# target - Целевое действие внутри сессии, multi-class переменная\n",
    "\n",
    "# abattle_sample_prediction.csv -  сэмпл сабмит."
   ]
  },
  {
   "cell_type": "code",
   "execution_count": 19,
   "metadata": {},
   "outputs": [],
   "source": [
    "if not os.path.isdir('./abattle_clickstream'):\n",
    "    os.mkdir('./abattle_clickstream')\n",
    "if not os.path.isdir('./encode'):\n",
    "    os.mkdir('./encode')"
   ]
  },
  {
   "cell_type": "code",
   "execution_count": 20,
   "metadata": {},
   "outputs": [],
   "source": [
    "### Разделение поля timezone на continent и town"
   ]
  },
  {
   "cell_type": "code",
   "execution_count": 15,
   "metadata": {},
   "outputs": [
    {
     "name": "stdout",
     "output_type": "stream",
     "text": [
      "2021-01-23 20:27:00.309096> part-00000.parquet\n",
      "2021-01-23 20:28:20.794470> part-00001.parquet\n",
      "2021-01-23 20:29:38.508911> part-00002.parquet\n",
      "2021-01-23 20:30:53.877683> part-00003.parquet\n",
      "2021-01-23 20:32:12.429172> part-00004.parquet\n",
      "2021-01-23 20:33:30.122682> part-00005.parquet\n",
      "2021-01-23 20:34:46.522572> part-00006.parquet\n",
      "2021-01-23 20:36:05.789445> part-00007.parquet\n",
      "2021-01-23 20:37:24.946721> part-00008.parquet\n",
      "2021-01-23 20:38:40.875639> part-00009.parquet\n",
      "CPU times: user 13min 7s, sys: 2min 11s, total: 15min 18s\n",
      "Wall time: 12min 57s\n"
     ]
    }
   ],
   "source": [
    "%%time\n",
    "for dirname, _, filenames in os.walk('./alfabattle2_abattle_clickstream'):\n",
    "    filenames = sorted(filenames)\n",
    "    for filename in filenames:\n",
    "        icecream(filename)\n",
    "        df = pd.read_parquet(os.path.join(dirname, filename))\n",
    "        df['zone_continent'] = df['timezone'].apply(lambda x: re.split(r'/', str(x).lower())[0])\n",
    "        df['zone_town'] = df['timezone'].apply(lambda x: re.split(r'/', str(x).lower()+'/')[1])\n",
    "        df.to_pickle(os.path.join('./abattle_clickstream', filename + '.pkl'))\n",
    "        del df\n",
    "        gc.collect()"
   ]
  },
  {
   "cell_type": "code",
   "execution_count": null,
   "metadata": {},
   "outputs": [],
   "source": [
    "# Кодирование с учетом сортировки. В результате алгоритма, будут переписаны файлы датасета, \n",
    "# поля кодированы. Для восстановления и/или анализа, в папке encode будут файлы с результатом кодирования \n",
    "# строк по каждому полю (14 файлов)"
   ]
  },
  {
   "cell_type": "code",
   "execution_count": 18,
   "metadata": {
    "scrolled": false
   },
   "outputs": [
    {
     "name": "stdout",
     "output_type": "stream",
     "text": [
      "2021-01-23 20:42:00.531505> application_id\n",
      "Mem. usage decreased to  0.00 Mb (37.2% reduction)\n",
      "2021-01-23 20:52:47.772727> event_type\n",
      "Mem. usage decreased to  0.00 Mb (22.2% reduction)\n",
      "2021-01-23 21:03:28.560809> event_category\n",
      "Mem. usage decreased to  0.01 Mb (41.1% reduction)\n",
      "2021-01-23 21:13:48.099531> event_name\n",
      "Mem. usage decreased to  1.27 Mb (33.3% reduction)\n",
      "2021-01-23 21:23:57.809298> event_label\n",
      "Mem. usage decreased to  0.56 Mb (33.3% reduction)\n",
      "2021-01-23 21:33:59.212915> device_screen_name\n",
      "Mem. usage decreased to  0.01 Mb (41.3% reduction)\n",
      "2021-01-23 21:43:42.705174> timezone\n",
      "Mem. usage decreased to  0.00 Mb (40.9% reduction)\n",
      "2021-01-23 21:53:04.629486> page_urlhost\n",
      "Mem. usage decreased to  0.00 Mb (32.5% reduction)\n",
      "2021-01-23 22:02:14.851101> page_urlpath_full\n",
      "Mem. usage decreased to  2.01 Mb (33.3% reduction)\n",
      "2021-01-23 22:11:09.865121> net_connection_type\n",
      "Mem. usage decreased to  0.00 Mb (16.5% reduction)\n",
      "2021-01-23 22:20:01.155479> net_connection_tech\n",
      "Mem. usage decreased to  0.00 Mb (34.9% reduction)\n",
      "2021-01-23 22:28:38.463302> zone_continent\n",
      "Mem. usage decreased to  0.00 Mb (35.8% reduction)\n",
      "2021-01-23 22:36:39.110024> zone_town\n",
      "Mem. usage decreased to  0.00 Mb (40.9% reduction)\n",
      "CPU times: user 1h 29min 38s, sys: 25min 40s, total: 1h 55min 19s\n",
      "Wall time: 2h 33s\n"
     ]
    }
   ],
   "source": [
    "%%time\n",
    "cols = ['application_id', 'event_type', 'event_category', 'event_name', \n",
    "        'event_label', 'device_screen_name', 'timezone', 'device_is_webview', \n",
    "        'page_urlhost', 'page_urlpath_full', 'net_connection_type', \n",
    "        'net_connection_tech', 'zone_continent', 'zone_town']\n",
    "for col in cols:\n",
    "    icecream(col)\n",
    "    encode = pd.DataFrame(columns=[col])\n",
    "    for dirname, _, filenames in os.walk('./abattle_clickstream'):\n",
    "        filenames = sorted(filenames)\n",
    "        for filename in filenames:\n",
    "            df = pd.read_pickle(os.path.join(dirname, filename))[[col]]\n",
    "            encode = encode.append(df)\n",
    "            del df\n",
    "            gc.collect()\n",
    "    encode = encode.reset_index(drop=True)\n",
    "\n",
    "    encode = encode[col].value_counts().to_frame().\\\n",
    "      reset_index().sort_values(col).reset_index(drop=True)\n",
    "    encode.rename(columns = {\"index\":col, col:\"count\"}, inplace = True)\n",
    "    col_encode = col + '_encode'\n",
    "    encode[col_encode] = pd.factorize(encode[col])[0]\n",
    "    encode[col_encode] += 1\n",
    "    encode = reduce_mem_usage(encode)\n",
    "    encode.to_pickle(f'./encode/{col_encode}.pkl')\n",
    "\n",
    "    for dirname, _, filenames in os.walk('./abattle_clickstream'):\n",
    "        filenames = sorted(filenames)\n",
    "        for filename in filenames:\n",
    "            df = pd.read_pickle(os.path.join(dirname, filename))\n",
    "            df = df.merge(encode[[col, col_encode]], on=col, how='left')\n",
    "            df[col_encode] = df[col_encode].fillna(-1)\n",
    "            del df[col]\n",
    "            df[col_encode] = df[col_encode].astype('int').pipe(reduce_column)\n",
    "            df.to_pickle(os.path.join(dirname, filename))\n",
    "            del df\n",
    "            gc.collect()"
   ]
  },
  {
   "cell_type": "code",
   "execution_count": 25,
   "metadata": {},
   "outputs": [
    {
     "data": {
      "text/plain": [
       "(['part-00000.parquet.pkl',\n",
       "  'part-00008.parquet.pkl',\n",
       "  'part-00009.parquet.pkl',\n",
       "  'part-00004.parquet.pkl',\n",
       "  'part-00006.parquet.pkl',\n",
       "  'part-00003.parquet.pkl',\n",
       "  'part-00005.parquet.pkl',\n",
       "  'part-00007.parquet.pkl',\n",
       "  'part-00002.parquet.pkl',\n",
       "  'part-00001.parquet.pkl'],\n",
       " ['event_label_encode.pkl',\n",
       "  'event_type_encode.pkl',\n",
       "  'zone_town_encode.pkl',\n",
       "  'application_id_encode.pkl',\n",
       "  'zone_continent_encode.pkl',\n",
       "  'device_screen_name_encode.pkl',\n",
       "  'timezone_encode.pkl',\n",
       "  'client_encode.pkl',\n",
       "  'net_connection_type_encode.pkl',\n",
       "  'page_urlhost_encode.pkl',\n",
       "  'net_connection_tech_encode.pkl',\n",
       "  'page_urlpath_full_encode.pkl',\n",
       "  'device_is_webview_encode.pkl',\n",
       "  'event_name_encode.pkl',\n",
       "  'event_category_encode.pkl'])"
      ]
     },
     "execution_count": 25,
     "metadata": {},
     "output_type": "execute_result"
    }
   ],
   "source": [
    "os.listdir('./abattle_clickstream'), os.listdir('./encode')"
   ]
  },
  {
   "cell_type": "code",
   "execution_count": null,
   "metadata": {},
   "outputs": [],
   "source": []
  }
 ],
 "metadata": {
  "kernelspec": {
   "display_name": "Python 3.8.2 64-bit",
   "language": "python",
   "name": "python38264bitcd2dec2f6e064e8e874cb11366634281"
  },
  "language_info": {
   "codemirror_mode": {
    "name": "ipython",
    "version": 3
   },
   "file_extension": ".py",
   "mimetype": "text/x-python",
   "name": "python",
   "nbconvert_exporter": "python",
   "pygments_lexer": "ipython3",
   "version": "3.8.5"
  }
 },
 "nbformat": 4,
 "nbformat_minor": 4
}
